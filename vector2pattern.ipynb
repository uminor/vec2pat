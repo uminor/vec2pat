{
  "nbformat": 4,
  "nbformat_minor": 0,
  "metadata": {
    "colab": {
      "name": "vector2pattern.ipynb",
      "version": "0.3.2",
      "provenance": [],
      "collapsed_sections": [],
      "include_colab_link": true
    },
    "kernelspec": {
      "name": "python3",
      "display_name": "Python 3"
    },
    "accelerator": "GPU"
  },
  "cells": [
    {
      "cell_type": "markdown",
      "metadata": {
        "id": "view-in-github",
        "colab_type": "text"
      },
      "source": [
        "<a href=\"https://colab.research.google.com/github/uminor/vec2pat/blob/master/vector2pattern.ipynb\" target=\"_parent\"><img src=\"https://colab.research.google.com/assets/colab-badge.svg\" alt=\"Open In Colab\"/></a>"
      ]
    },
    {
      "metadata": {
        "id": "I6ZgjHV1DgbY",
        "colab_type": "code",
        "colab": {}
      },
      "cell_type": "code",
      "source": [
        "# tensorflow のラッパーとなるライブラリ keras をインストール\n",
        "!pip install -q keras"
      ],
      "execution_count": 0,
      "outputs": []
    },
    {
      "metadata": {
        "id": "WfChD2cFOITR",
        "colab_type": "code",
        "outputId": "5f6c7741-73d5-4214-8ab8-87a2bc0d4d6f",
        "colab": {
          "base_uri": "https://localhost:8080/",
          "height": 4810
        }
      },
      "cell_type": "code",
      "source": [
        "import tensorflow as tf\n",
        "import keras\n",
        "from keras.optimizers import SGD\n",
        "import numpy as np\n",
        "from numpy.random import *\n",
        "import matplotlib.pyplot as plt\n",
        "import sys\n",
        "import time\n",
        "\n",
        "dim = 10\n",
        "multiple = 7\n",
        "\n",
        "# generate whole data\n",
        "def generate_whole_data():\n",
        "  inpt, outpt = [], []\n",
        "  c = 0\n",
        "  for frm in range(0, dim):\n",
        "    for to in range(frm, dim):\n",
        "      x = np.zeros(dim)\n",
        "\n",
        "      for j in range(frm, to+1):\n",
        "        x[j] = 1\n",
        "\n",
        "      inpt.append([frm, to])\n",
        "      outpt.append(x)\n",
        "      c = c + 1\n",
        "      \n",
        "  inpt  = np.array(inpt)\n",
        "  outpt = np.array(outpt)\n",
        "  print(\"data size : \", c)\n",
        "  return inpt, outpt\n",
        "\n",
        "# インデックスが m の倍数の要素のリスト\n",
        "def select_by_multiple(lis, m):\n",
        "  o = []\n",
        "  for i, a in enumerate(lis):\n",
        "    if i % m == 0:\n",
        "      o.append(a)\n",
        "  return o\n",
        "\n",
        "# インデックスが m の倍数以外の要素のリスト\n",
        "def reject_by_multiple(lis, m):\n",
        "  o = []\n",
        "  for i, a in enumerate(lis):\n",
        "    if i % m != 0:\n",
        "      o.append(a)\n",
        "  return o\n",
        "      \n",
        "# generate sample data\n",
        "def generate_data(num):\n",
        "  inpt, outpt = [], []\n",
        "\n",
        "  for i in range(0, samples):\n",
        "    x = np.zeros(dim)\n",
        "    #length = randint(0, dim)\n",
        "\n",
        "    frm = randint(0, dim)\n",
        "    to  = randint(frm, dim)\n",
        "    \n",
        "    #for j in range(0, length):\n",
        "    for j in range(frm, to+1):\n",
        "      x[j] = 1\n",
        "    \n",
        "    #x[length] = 1\n",
        "\n",
        "    inpt.append([frm, to])\n",
        "    #inpt.append(length)\n",
        "    outpt.append(x)\n",
        "\n",
        "  inpt  = np.array(inpt)\n",
        "  outpt = np.array(outpt)\n",
        "  return inpt, outpt\n",
        "\n",
        "\n",
        "#i_train, o_train = generate_data(samples)\n",
        "i_train, o_train = generate_whole_data()\n",
        "\n",
        "i_train = np.array(reject_by_multiple(i_train, 7))\n",
        "o_train = np.array(reject_by_multiple(o_train, 7))\n",
        "\n",
        "print(i_train)\n",
        "print(o_train)\n",
        "\n",
        "from keras.layers import Dense, Activation\n",
        "model = keras.models.Sequential()\n",
        "\n",
        "# neural network model parameters\n",
        "hidden_units = 20 # 20 # 0\n",
        "layer_depth = 1\n",
        "act = 'sigmoid'\n",
        "bias = True\n",
        "\n",
        "# first hidden layer\n",
        "model.add(Dense(units = hidden_units, input_dim = 2, use_bias = bias))\n",
        "model.add(Activation(act))\n",
        "\n",
        "model.add(Dense(units = int(hidden_units), use_bias = bias))\n",
        "model.add(Activation(act))\n",
        "model.add(Dense(units = int(hidden_units), use_bias = bias))\n",
        "model.add(Activation(act))\n",
        "\n",
        "# output layer\n",
        "model.add(Dense(units = dim, use_bias = bias))\n",
        "\n",
        "model.add(Activation('linear'))\n",
        "\n",
        "sgd = SGD(lr=0.01, decay=1e-6, momentum=0.9, nesterov=True)\n",
        "model.compile(loss = 'mean_squared_error', optimizer = sgd)\n",
        "\n",
        "# training\n",
        "ep = 30000 # default\n",
        "\n",
        "start_fit = time.time()\n",
        "\n",
        "model.fit(i_train, o_train, epochs = ep, verbose = 0)\n",
        "elapsed = time.time() - start_fit\n",
        "print(\"elapsed = {:.1f} sec\".format(elapsed))\n",
        "\n",
        "# predict\n",
        "i_test, o_true = generate_whole_data()\n",
        "\n",
        "i_test = np.array(select_by_multiple(i_test, multiple))\n",
        "o_true = np.array(select_by_multiple(o_true, multiple))\n",
        "\n",
        "o_predict = model.predict(i_test)\n",
        "o_true = np.array(o_true)\n",
        "\n",
        "# Easy evaluation\n",
        "def fmt(n):\n",
        "  return '{0:>5.2f}'.format(round(n, 2))\n",
        "\n",
        "c = 0\n",
        "for (it, op, ot) in zip(i_test, o_predict, o_true):\n",
        "  print(c, it)\n",
        "  c = c + 1\n",
        "  print(list(map(fmt, list(op))),\"：推定したパターン\")\n",
        "  print(list(map(fmt, list(ot))),\"：真のパターン\")\n",
        "  height_p = list(op)\n",
        "  height_t = list(ot)\n",
        "  \n",
        "  left = np.arange(len(height_p))\n",
        "  labels = range(dim)\n",
        "\n",
        "  width = 0.3\n",
        "\n",
        "  plt.bar(left, height_t, color='b', width=width, align='center')\n",
        "  plt.bar(left+width, height_p, color='r', width=width, align='center')\n",
        "\n",
        "  plt.xticks(left + width/2, labels)\n",
        "  plt.show()  \n",
        "  "
      ],
      "execution_count": 0,
      "outputs": [
        {
          "output_type": "stream",
          "text": [
            "data size :  55\n",
            "[[0 1]\n",
            " [0 2]\n",
            " [0 3]\n",
            " [0 4]\n",
            " [0 5]\n",
            " [0 6]\n",
            " [0 8]\n",
            " [0 9]\n",
            " [1 1]\n",
            " [1 2]\n",
            " [1 3]\n",
            " [1 4]\n",
            " [1 6]\n",
            " [1 7]\n",
            " [1 8]\n",
            " [1 9]\n",
            " [2 2]\n",
            " [2 3]\n",
            " [2 5]\n",
            " [2 6]\n",
            " [2 7]\n",
            " [2 8]\n",
            " [2 9]\n",
            " [3 3]\n",
            " [3 5]\n",
            " [3 6]\n",
            " [3 7]\n",
            " [3 8]\n",
            " [3 9]\n",
            " [4 4]\n",
            " [4 6]\n",
            " [4 7]\n",
            " [4 8]\n",
            " [4 9]\n",
            " [5 5]\n",
            " [5 6]\n",
            " [5 8]\n",
            " [5 9]\n",
            " [6 6]\n",
            " [6 7]\n",
            " [6 8]\n",
            " [6 9]\n",
            " [7 8]\n",
            " [7 9]\n",
            " [8 8]\n",
            " [8 9]\n",
            " [9 9]]\n",
            "[[1. 1. 0. 0. 0. 0. 0. 0. 0. 0.]\n",
            " [1. 1. 1. 0. 0. 0. 0. 0. 0. 0.]\n",
            " [1. 1. 1. 1. 0. 0. 0. 0. 0. 0.]\n",
            " [1. 1. 1. 1. 1. 0. 0. 0. 0. 0.]\n",
            " [1. 1. 1. 1. 1. 1. 0. 0. 0. 0.]\n",
            " [1. 1. 1. 1. 1. 1. 1. 0. 0. 0.]\n",
            " [1. 1. 1. 1. 1. 1. 1. 1. 1. 0.]\n",
            " [1. 1. 1. 1. 1. 1. 1. 1. 1. 1.]\n",
            " [0. 1. 0. 0. 0. 0. 0. 0. 0. 0.]\n",
            " [0. 1. 1. 0. 0. 0. 0. 0. 0. 0.]\n",
            " [0. 1. 1. 1. 0. 0. 0. 0. 0. 0.]\n",
            " [0. 1. 1. 1. 1. 0. 0. 0. 0. 0.]\n",
            " [0. 1. 1. 1. 1. 1. 1. 0. 0. 0.]\n",
            " [0. 1. 1. 1. 1. 1. 1. 1. 0. 0.]\n",
            " [0. 1. 1. 1. 1. 1. 1. 1. 1. 0.]\n",
            " [0. 1. 1. 1. 1. 1. 1. 1. 1. 1.]\n",
            " [0. 0. 1. 0. 0. 0. 0. 0. 0. 0.]\n",
            " [0. 0. 1. 1. 0. 0. 0. 0. 0. 0.]\n",
            " [0. 0. 1. 1. 1. 1. 0. 0. 0. 0.]\n",
            " [0. 0. 1. 1. 1. 1. 1. 0. 0. 0.]\n",
            " [0. 0. 1. 1. 1. 1. 1. 1. 0. 0.]\n",
            " [0. 0. 1. 1. 1. 1. 1. 1. 1. 0.]\n",
            " [0. 0. 1. 1. 1. 1. 1. 1. 1. 1.]\n",
            " [0. 0. 0. 1. 0. 0. 0. 0. 0. 0.]\n",
            " [0. 0. 0. 1. 1. 1. 0. 0. 0. 0.]\n",
            " [0. 0. 0. 1. 1. 1. 1. 0. 0. 0.]\n",
            " [0. 0. 0. 1. 1. 1. 1. 1. 0. 0.]\n",
            " [0. 0. 0. 1. 1. 1. 1. 1. 1. 0.]\n",
            " [0. 0. 0. 1. 1. 1. 1. 1. 1. 1.]\n",
            " [0. 0. 0. 0. 1. 0. 0. 0. 0. 0.]\n",
            " [0. 0. 0. 0. 1. 1. 1. 0. 0. 0.]\n",
            " [0. 0. 0. 0. 1. 1. 1. 1. 0. 0.]\n",
            " [0. 0. 0. 0. 1. 1. 1. 1. 1. 0.]\n",
            " [0. 0. 0. 0. 1. 1. 1. 1. 1. 1.]\n",
            " [0. 0. 0. 0. 0. 1. 0. 0. 0. 0.]\n",
            " [0. 0. 0. 0. 0. 1. 1. 0. 0. 0.]\n",
            " [0. 0. 0. 0. 0. 1. 1. 1. 1. 0.]\n",
            " [0. 0. 0. 0. 0. 1. 1. 1. 1. 1.]\n",
            " [0. 0. 0. 0. 0. 0. 1. 0. 0. 0.]\n",
            " [0. 0. 0. 0. 0. 0. 1. 1. 0. 0.]\n",
            " [0. 0. 0. 0. 0. 0. 1. 1. 1. 0.]\n",
            " [0. 0. 0. 0. 0. 0. 1. 1. 1. 1.]\n",
            " [0. 0. 0. 0. 0. 0. 0. 1. 1. 0.]\n",
            " [0. 0. 0. 0. 0. 0. 0. 1. 1. 1.]\n",
            " [0. 0. 0. 0. 0. 0. 0. 0. 1. 0.]\n",
            " [0. 0. 0. 0. 0. 0. 0. 0. 1. 1.]\n",
            " [0. 0. 0. 0. 0. 0. 0. 0. 0. 1.]]\n",
            "elapsed = 177.7 sec\n",
            "data size :  55\n",
            "0 [0 0]\n",
            "[' 0.91', ' 1.16', ' 0.08', '-0.35', '-0.21', ' 0.04', ' 0.14', ' 0.15', '-0.01', '-0.09'] ：推定したパターン\n",
            "[' 1.00', ' 0.00', ' 0.00', ' 0.00', ' 0.00', ' 0.00', ' 0.00', ' 0.00', ' 0.00', ' 0.00'] ：真のパターン\n"
          ],
          "name": "stdout"
        },
        {
          "output_type": "display_data",
          "data": {
            "image/png": "[encoded data removed]",
            "text/plain": [
              "<Figure size 576x396 with 1 Axes>"
            ]
          },
          "metadata": {
            "tags": []
          }
        },
        {
          "output_type": "stream",
          "text": [
            "1 [0 7]\n",
            "[' 0.93', ' 1.11', ' 0.99', ' 1.03', ' 1.12', ' 1.06', ' 0.94', ' 0.58', ' 0.40', ' 0.11'] ：推定したパターン\n",
            "[' 1.00', ' 1.00', ' 1.00', ' 1.00', ' 1.00', ' 1.00', ' 1.00', ' 1.00', ' 0.00', ' 0.00'] ：真のパターン\n"
          ],
          "name": "stdout"
        },
        {
          "output_type": "display_data",
          "data": {
            "image/png": "[encoded data removed]",
            "text/plain": [
              "<Figure size 576x396 with 1 Axes>"
            ]
          },
          "metadata": {
            "tags": []
          }
        },
        {
          "output_type": "stream",
          "text": [
            "2 [1 5]\n",
            "[' 0.19', ' 0.70', ' 1.22', ' 1.19', ' 0.85', ' 0.56', ' 0.32', ' 0.05', '-0.06', '-0.09'] ：推定したパターン\n",
            "[' 0.00', ' 1.00', ' 1.00', ' 1.00', ' 1.00', ' 1.00', ' 0.00', ' 0.00', ' 0.00', ' 0.00'] ：真のパターン\n"
          ],
          "name": "stdout"
        },
        {
          "output_type": "display_data",
          "data": {
            "image/png": "[encoded data removed]",
            "text/plain": [
              "<Figure size 576x396 with 1 Axes>"
            ]
          },
          "metadata": {
            "tags": []
          }
        },
        {
          "output_type": "stream",
          "text": [
            "3 [2 4]\n",
            "['-0.18', ' 0.22', ' 0.88', ' 0.94', ' 0.56', ' 0.30', ' 0.09', '-0.11', '-0.12', '-0.05'] ：推定したパターン\n",
            "[' 0.00', ' 0.00', ' 1.00', ' 1.00', ' 1.00', ' 0.00', ' 0.00', ' 0.00', ' 0.00', ' 0.00'] ：真のパターン\n"
          ],
          "name": "stdout"
        },
        {
          "output_type": "display_data",
          "data": {
            "image/png": "[encoded data removed]",
            "text/plain": [
              "<Figure size 576x396 with 1 Axes>"
            ]
          },
          "metadata": {
            "tags": []
          }
        },
        {
          "output_type": "stream",
          "text": [
            "4 [3 4]\n",
            "['-0.07', '-0.02', ' 0.33', ' 0.57', ' 0.50', ' 0.44', ' 0.27', '-0.06', '-0.13', '-0.12'] ：推定したパターン\n",
            "[' 0.00', ' 0.00', ' 0.00', ' 1.00', ' 1.00', ' 0.00', ' 0.00', ' 0.00', ' 0.00', ' 0.00'] ：真のパターン\n"
          ],
          "name": "stdout"
        },
        {
          "output_type": "display_data",
          "data": {
            "image/png": "[encoded data removed]",
            "text/plain": [
              "<Figure size 576x396 with 1 Axes>"
            ]
          },
          "metadata": {
            "tags": []
          }
        },
        {
          "output_type": "stream",
          "text": [
            "5 [4 5]\n",
            "[' 0.02', '-0.11', ' 0.02', ' 0.34', ' 0.52', ' 0.61', ' 0.49', ' 0.10', '-0.04', '-0.13'] ：推定したパターン\n",
            "[' 0.00', ' 0.00', ' 0.00', ' 0.00', ' 1.00', ' 1.00', ' 0.00', ' 0.00', ' 0.00', ' 0.00'] ：真のパターン\n"
          ],
          "name": "stdout"
        },
        {
          "output_type": "display_data",
          "data": {
            "image/png": "[encoded data removed]",
            "text/plain": [
              "<Figure size 576x396 with 1 Axes>"
            ]
          },
          "metadata": {
            "tags": []
          }
        },
        {
          "output_type": "stream",
          "text": [
            "6 [5 7]\n",
            "[' 0.07', '-0.06', '-0.16', ' 0.06', ' 0.40', ' 0.65', ' 0.77', ' 0.57', ' 0.42', ' 0.15'] ：推定したパターン\n",
            "[' 0.00', ' 0.00', ' 0.00', ' 0.00', ' 0.00', ' 1.00', ' 1.00', ' 1.00', ' 0.00', ' 0.00'] ：真のパターン\n"
          ],
          "name": "stdout"
        },
        {
          "output_type": "display_data",
          "data": {
            "image/png": "[encoded data removed]",
            "text/plain": [
              "<Figure size 576x396 with 1 Axes>"
            ]
          },
          "metadata": {
            "tags": []
          }
        },
        {
          "output_type": "stream",
          "text": [
            "7 [7 7]\n",
            "[' 0.00', '-0.06', ' 0.01', ' 0.10', ' 0.09', ' 0.17', ' 0.25', ' 0.18', ' 0.31', ' 0.22'] ：推定したパターン\n",
            "[' 0.00', ' 0.00', ' 0.00', ' 0.00', ' 0.00', ' 0.00', ' 0.00', ' 1.00', ' 0.00', ' 0.00'] ：真のパターン\n"
          ],
          "name": "stdout"
        },
        {
          "output_type": "display_data",
          "data": {
            "image/png": "[encoded data removed]",
            "text/plain": [
              "<Figure size 576x396 with 1 Axes>"
            ]
          },
          "metadata": {
            "tags": []
          }
        }
      ]
    },
    {
      "metadata": {
        "id": "7ZJjRo-86i5F",
        "colab_type": "text"
      },
      "cell_type": "markdown",
      "source": [
        ""
      ]
    }
  ]
}